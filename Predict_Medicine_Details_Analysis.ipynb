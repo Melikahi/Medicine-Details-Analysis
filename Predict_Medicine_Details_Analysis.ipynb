{
  "nbformat": 4,
  "nbformat_minor": 0,
  "metadata": {
    "colab": {
      "provenance": []
    },
    "kernelspec": {
      "name": "python3",
      "display_name": "Python 3"
    },
    "language_info": {
      "name": "python"
    }
  },
  "cells": [
    {
      "cell_type": "markdown",
      "source": [
        "**Problem Statement:**\n",
        "\n",
        "The pharmaceutical industry faces the challenge of managing vast amounts of data related to the composition, uses, and side effects of medicines. As the number of available medications continues to grow, healthcare providers need reliable insights to prescribe the most effective treatments while minimizing adverse effects. Additionally, understanding the distribution of medicine usage and patient satisfaction can help pharmaceutical companies improve their offerings.\n",
        "\n",
        "the task is to analyze a dataset containing detailed information about over 11,000 medicines, including their salt compositions, uses, side effects, manufacturers, and user reviews. The goal is to uncover patterns and insights that can help improve decision-making in the healthcare industry and enhance patient outcomes.\n",
        "\n",
        "**Dataset Access:**\n",
        "\n",
        "• The dataset Medicine_Details.csv can be downloaded from Kaggle.\n",
        "\n",
        "\n",
        "# Part 3: • Predict user satisfaction ratings with high accuracy using the given features.\n",
        "\n"
      ],
      "metadata": {
        "id": "L91ChLodZlOn"
      }
    },
    {
      "cell_type": "code",
      "execution_count": 1,
      "metadata": {
        "colab": {
          "base_uri": "https://localhost:8080/"
        },
        "id": "QnFsesdg5lY4",
        "outputId": "6fba6f98-0675-4df0-c417-043a8072f5d8"
      },
      "outputs": [
        {
          "output_type": "stream",
          "name": "stdout",
          "text": [
            "Medicine Name         0\n",
            "Composition           0\n",
            "Uses                  0\n",
            "Side_effects          0\n",
            "Image URL             0\n",
            "Manufacturer          0\n",
            "Excellent Review %    0\n",
            "Average Review %      0\n",
            "Poor Review %         0\n",
            "dtype: int64\n"
          ]
        }
      ],
      "source": [
        "import pandas as pd\n",
        "\n",
        "# Load dataset\n",
        "df = pd.read_csv('/content/Medicine_Details.csv')\n",
        "\n",
        "# Display the first few rows\n",
        "df.head()\n",
        "\n",
        "# Check for missing values\n",
        "print(df.isnull().sum())\n"
      ]
    },
    {
      "cell_type": "code",
      "source": [
        "# Drop rows with missing values in the target variable (Excellent Review %)\n",
        "df = df.dropna(subset=['Excellent Review %'])\n",
        "\n",
        "# Fill or drop missing values in other columns as necessary\n",
        "df = df.fillna('')  # For simplicity, fill missing values with an empty string\n"
      ],
      "metadata": {
        "id": "xfIOVSt9XQzj"
      },
      "execution_count": 3,
      "outputs": []
    },
    {
      "cell_type": "code",
      "source": [
        "from sklearn.feature_extraction.text import TfidfVectorizer\n",
        "from sklearn.preprocessing import OneHotEncoder\n",
        "from sklearn.compose import ColumnTransformer\n",
        "from sklearn.pipeline import Pipeline\n",
        "from sklearn.model_selection import train_test_split\n",
        "from sklearn.linear_model import LinearRegression\n",
        "from sklearn.metrics import mean_squared_error, r2_score\n",
        "\n",
        "# Initialize TF-IDF vectorizers\n",
        "tfidf_uses = TfidfVectorizer()\n",
        "tfidf_side_effects = TfidfVectorizer()\n",
        "\n",
        "# Vectorize text features\n",
        "X_uses = tfidf_uses.fit_transform(df['Uses'])\n",
        "X_side_effects = tfidf_side_effects.fit_transform(df['Side_effects'])\n",
        "\n",
        "# Convert to DataFrame\n",
        "X_uses_df = pd.DataFrame(X_uses.toarray(), columns=tfidf_uses.get_feature_names_out())\n",
        "X_side_effects_df = pd.DataFrame(X_side_effects.toarray(), columns=tfidf_side_effects.get_feature_names_out())\n",
        "\n",
        "# Combine TF-IDF features with the rest of the features\n",
        "df_encoded = pd.concat([\n",
        "    df.drop(columns=['Uses', 'Side_effects', 'Medicine Name', 'Image URL']),\n",
        "    X_uses_df,\n",
        "    X_side_effects_df\n",
        "], axis=1)\n",
        "\n",
        "# One-hot encode categorical columns\n",
        "df_encoded = pd.get_dummies(df_encoded, columns=['Manufacturer', 'Composition'])\n",
        "\n",
        "# Define features (X) and target (y)\n",
        "X = df_encoded.drop(columns=['Excellent Review %'])\n",
        "y = df_encoded['Excellent Review %']\n"
      ],
      "metadata": {
        "id": "kDkMKCPUXpOk"
      },
      "execution_count": 4,
      "outputs": []
    },
    {
      "cell_type": "code",
      "source": [
        "# Split the data into training and testing sets\n",
        "X_train, X_test, y_train, y_test = train_test_split(X, y, test_size=0.2, random_state=42)\n",
        "\n",
        "# Initialize and train the Linear Regression model\n",
        "model = LinearRegression()\n",
        "model.fit(X_train, y_train)\n",
        "\n",
        "# Predict on the test set\n",
        "y_pred = model.predict(X_test)\n",
        "\n",
        "# Evaluate the model\n",
        "mse = mean_squared_error(y_test, y_pred)\n",
        "r2 = r2_score(y_test, y_pred)\n",
        "\n",
        "print(f'Mean Squared Error: {mse}')\n",
        "print(f'R-squared: {r2}')\n"
      ],
      "metadata": {
        "colab": {
          "base_uri": "https://localhost:8080/"
        },
        "id": "su3CSJWyX---",
        "outputId": "58da7126-c8dc-4da5-93a5-3ed8f4a174fb"
      },
      "execution_count": 5,
      "outputs": [
        {
          "output_type": "stream",
          "name": "stdout",
          "text": [
            "Mean Squared Error: 5.2870674126778304e-09\n",
            "R-squared: 0.9999999999918778\n"
          ]
        }
      ]
    },
    {
      "cell_type": "code",
      "source": [
        "from sklearn.ensemble import GradientBoostingRegressor\n",
        "\n",
        "# Initialize and train the Gradient Boosting Regressor model\n",
        "gb_model = GradientBoostingRegressor()\n",
        "gb_model.fit(X_train, y_train)\n",
        "\n",
        "# Predict on the test set\n",
        "y_pred_gb = gb_model.predict(X_test)\n",
        "\n",
        "# Evaluate the model\n",
        "mse_gb = mean_squared_error(y_test, y_pred_gb)\n",
        "r2_gb = r2_score(y_test, y_pred_gb)\n",
        "\n",
        "print(f'Gradient Boosting MSE: {mse_gb}')\n",
        "print(f'Gradient Boosting R-squared: {r2_gb}')\n"
      ],
      "metadata": {
        "colab": {
          "base_uri": "https://localhost:8080/"
        },
        "id": "t35Uqns4Ynqm",
        "outputId": "4df6db49-2944-460c-8921-9f9f65fd9786"
      },
      "execution_count": 6,
      "outputs": [
        {
          "output_type": "stream",
          "name": "stdout",
          "text": [
            "Gradient Boosting MSE: 1.5234643891130433\n",
            "Gradient Boosting R-squared: 0.9976596150004813\n"
          ]
        }
      ]
    }
  ]
}